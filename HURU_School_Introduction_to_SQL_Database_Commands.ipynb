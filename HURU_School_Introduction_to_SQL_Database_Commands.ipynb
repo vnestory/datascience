{
  "nbformat": 4,
  "nbformat_minor": 0,
  "metadata": {
    "colab": {
      "name": "HURU_School_Introduction_to_SQL_Database_Commands.ipynb",
      "provenance": [],
      "toc_visible": true,
      "include_colab_link": true
    },
    "kernelspec": {
      "name": "python3",
      "display_name": "Python 3"
    }
  },
  "cells": [
    {
      "cell_type": "markdown",
      "metadata": {
        "id": "view-in-github",
        "colab_type": "text"
      },
      "source": [
        "<a href=\"https://colab.research.google.com/github/vnestory/datascience/blob/main/HURU_School_Introduction_to_SQL_Database_Commands.ipynb\" target=\"_parent\"><img src=\"https://colab.research.google.com/assets/colab-badge.svg\" alt=\"Open In Colab\"/></a>"
      ]
    },
    {
      "cell_type": "markdown",
      "metadata": {
        "id": "6pWMnJetMIvW"
      },
      "source": [
        "### **Introduction to SQL Database Commands**"
      ]
    },
    {
      "cell_type": "code",
      "metadata": {
        "id": "YBy1PU0xa847",
        "colab": {
          "base_uri": "https://localhost:8080/"
        },
        "outputId": "96dec209-39a7-4140-c53f-e69b7f16fba5"
      },
      "source": [
        "# installing the sqlite database\n",
        "\n",
        "!pip install db-sqlite3"
      ],
      "execution_count": null,
      "outputs": [
        {
          "output_type": "stream",
          "text": [
            "Requirement already satisfied: db-sqlite3 in /usr/local/lib/python3.7/dist-packages (0.0.1)\n",
            "Requirement already satisfied: db in /usr/local/lib/python3.7/dist-packages (from db-sqlite3) (0.1.1)\n",
            "Requirement already satisfied: antiorm in /usr/local/lib/python3.7/dist-packages (from db->db-sqlite3) (1.2.1)\n"
          ],
          "name": "stdout"
        }
      ]
    },
    {
      "cell_type": "code",
      "metadata": {
        "id": "cDpfSAPra89M"
      },
      "source": [
        "# import the required libraries sqlite, pandas, and date time\n",
        "import sqlite3\n",
        "import pandas as pd\n",
        "from datetime import date"
      ],
      "execution_count": null,
      "outputs": []
    },
    {
      "cell_type": "code",
      "metadata": {
        "id": "JYYdjlTEa9BR"
      },
      "source": [
        "#connect with test db\n",
        "\n",
        "db =sqlite3.connect(\"test.db\")\n",
        "\n",
        "# drop the table results if it exist\n",
        "db.execute(\"drop table if exists results\")\n",
        "# Define database schema\n",
        "try:\n",
        "  db.execute(\"create table results (Name text, Date datetime,Phone text, Email text)\")\n",
        "except:\n",
        "  print(\"table already exist\")"
      ],
      "execution_count": null,
      "outputs": []
    },
    {
      "cell_type": "code",
      "metadata": {
        "id": "vSB8E8I7a9E3"
      },
      "source": [
        "# connect again\n",
        "db =sqlite3.connect(\"test.db\")\n"
      ],
      "execution_count": null,
      "outputs": []
    },
    {
      "cell_type": "code",
      "metadata": {
        "id": "FGXaC65Ma9Hu"
      },
      "source": [
        "# Create data\n",
        "\n",
        "Name =\"Adeleke\"\n",
        "Date =date.today().strftime(\"%d-%m-%Y\")\n",
        "Phone =\"+25872928002\"\n",
        "Email =\"adeleke@gmail.com\""
      ],
      "execution_count": null,
      "outputs": []
    },
    {
      "cell_type": "code",
      "metadata": {
        "id": "wiSd7AZ0a9K8"
      },
      "source": [
        "cmd = \"insert into results(Name, Phone,Date,Email) values('{}','{}','{}','{}')\".format(Name,Phone,Date,Email)\n",
        "db.execute(cmd)\n",
        "db.commit()\n"
      ],
      "execution_count": null,
      "outputs": []
    },
    {
      "cell_type": "markdown",
      "metadata": {
        "id": "jqc5yuI7l8aN"
      },
      "source": [
        "**Querying**"
      ]
    },
    {
      "cell_type": "code",
      "metadata": {
        "id": "X-h8S9BFa9OP",
        "colab": {
          "base_uri": "https://localhost:8080/"
        },
        "outputId": "9c529742-88e7-4214-e5ef-5c34ecda143a"
      },
      "source": [
        "# Querying the data in the database using SQL\n",
        "\n",
        "db = sqlite3.connect(\"test.db\")\n",
        "rs = db.execute('SELECT * FROM results')\n",
        "for row in rs:\n",
        "    print (row)"
      ],
      "execution_count": null,
      "outputs": [
        {
          "output_type": "stream",
          "text": [
            "('Adeleke', '28-04-2021', '+25872928002', 'adeleke@gmail.com')\n"
          ],
          "name": "stdout"
        }
      ]
    },
    {
      "cell_type": "code",
      "metadata": {
        "id": "brWr388Aa9US",
        "colab": {
          "base_uri": "https://localhost:8080/",
          "height": 79
        },
        "outputId": "875737f1-170d-4b86-830d-7b1d4b7012f2"
      },
      "source": [
        "# reading the dataset into pandas for more downstream operations\n",
        "\n",
        "db = sqlite3.connect(\"test.db\")\n",
        "qry = \"\"\"\n",
        "\n",
        "SELECT * FROM results \n",
        "\n",
        "\"\"\"\n",
        "df = pd.read_sql_query(qry, db)\n",
        "\n",
        "df.head()"
      ],
      "execution_count": null,
      "outputs": [
        {
          "output_type": "execute_result",
          "data": {
            "text/html": [
              "<div>\n",
              "<style scoped>\n",
              "    .dataframe tbody tr th:only-of-type {\n",
              "        vertical-align: middle;\n",
              "    }\n",
              "\n",
              "    .dataframe tbody tr th {\n",
              "        vertical-align: top;\n",
              "    }\n",
              "\n",
              "    .dataframe thead th {\n",
              "        text-align: right;\n",
              "    }\n",
              "</style>\n",
              "<table border=\"1\" class=\"dataframe\">\n",
              "  <thead>\n",
              "    <tr style=\"text-align: right;\">\n",
              "      <th></th>\n",
              "      <th>Name</th>\n",
              "      <th>Date</th>\n",
              "      <th>Phone</th>\n",
              "      <th>Email</th>\n",
              "    </tr>\n",
              "  </thead>\n",
              "  <tbody>\n",
              "    <tr>\n",
              "      <th>0</th>\n",
              "      <td>Adeleke</td>\n",
              "      <td>28-04-2021</td>\n",
              "      <td>+25872928002</td>\n",
              "      <td>adeleke@gmail.com</td>\n",
              "    </tr>\n",
              "  </tbody>\n",
              "</table>\n",
              "</div>"
            ],
            "text/plain": [
              "      Name        Date         Phone              Email\n",
              "0  Adeleke  28-04-2021  +25872928002  adeleke@gmail.com"
            ]
          },
          "metadata": {
            "tags": []
          },
          "execution_count": 38
        }
      ]
    }
  ]
}