{
  "nbformat": 4,
  "nbformat_minor": 0,
  "metadata": {
    "colab": {
      "name": "Data Structures",
      "provenance": [],
      "collapsed_sections": [],
      "include_colab_link": true
    },
    "kernelspec": {
      "name": "python3",
      "display_name": "Python 3"
    },
    "language_info": {
      "name": "python"
    }
  },
  "cells": [
    {
      "cell_type": "markdown",
      "metadata": {
        "id": "view-in-github",
        "colab_type": "text"
      },
      "source": [
        "<a href=\"https://colab.research.google.com/github/vnestory/datascience/blob/main/Data_Structures.ipynb\" target=\"_parent\"><img src=\"https://colab.research.google.com/assets/colab-badge.svg\" alt=\"Open In Colab\"/></a>"
      ]
    },
    {
      "cell_type": "markdown",
      "metadata": {
        "id": "9O0lftz0b6k_"
      },
      "source": [
        "Victor_Assignment 21st April, 2012 **Data_types**\n",
        "\n",
        "\n",
        "1. Integer\n",
        "2.float\n",
        "3.   Boolean\n"
      ]
    },
    {
      "cell_type": "markdown",
      "metadata": {
        "id": "c870rt2Vk0U1"
      },
      "source": [
        "There are three numeric types in Python:\n",
        "\n",
        "int\n",
        "float\n",
        "complex\n",
        "Variables of numeric types are created when you assign a value to them:"
      ]
    },
    {
      "cell_type": "code",
      "metadata": {
        "colab": {
          "base_uri": "https://localhost:8080/"
        },
        "id": "JsSQhNw_kD09",
        "outputId": "5a8d228c-ed6d-4aeb-8844-3257b0f1dc5a"
      },
      "source": [
        "\n",
        "x = 1    # integer\n",
        "y = 2.8\n",
        "z = 1j   # complex\n",
        "\n",
        "print(x)\n",
        "\n",
        "print(type(x))\n",
        "print(type(y))\n",
        "print(type(z))     #It picks from all over the page\n"
      ],
      "execution_count": 1,
      "outputs": [
        {
          "output_type": "stream",
          "text": [
            "1\n",
            "<class 'int'>\n",
            "<class 'float'>\n",
            "<class 'complex'>\n"
          ],
          "name": "stdout"
        }
      ]
    },
    {
      "cell_type": "markdown",
      "metadata": {
        "id": "RaYaavUolyT2"
      },
      "source": [
        "**Float**\n",
        "\n",
        "Float, or \"floating point number\" is a number, positive or negative, containing one or more decimals."
      ]
    },
    {
      "cell_type": "code",
      "metadata": {
        "id": "DzUfiRfHlxMw",
        "colab": {
          "base_uri": "https://localhost:8080/"
        },
        "outputId": "5c9c8035-5bf5-4e44-bdc4-a233bdc7b5fc"
      },
      "source": [
        "y = 2.8 # float\n",
        "print(y)\n",
        "print(type(y))"
      ],
      "execution_count": null,
      "outputs": [
        {
          "output_type": "stream",
          "text": [
            "2.8\n",
            "<class 'float'>\n"
          ],
          "name": "stdout"
        }
      ]
    },
    {
      "cell_type": "markdown",
      "metadata": {
        "id": "0vPUOf_Tuo4X"
      },
      "source": [
        "**Conversion**"
      ]
    },
    {
      "cell_type": "code",
      "metadata": {
        "colab": {
          "base_uri": "https://localhost:8080/"
        },
        "id": "BY0txfoMuUs6",
        "outputId": "adab9326-e21d-43c9-9d80-b2f1a8e72d5b"
      },
      "source": [
        "x = 1    # int\n",
        "y = 2.8  # float\n",
        "z = 1j   # complex\n",
        "\n",
        "#convert from int to float:\n",
        "a = float(x)\n",
        "\n",
        "#convert from float to int:\n",
        "b = int(y)\n",
        "\n",
        "#convert from int to complex:\n",
        "c = complex(x)\n",
        "\n",
        "print(a)\n",
        "print(b)\n",
        "print(c)\n",
        "\n",
        "print(type(a))\n",
        "print(type(b))\n",
        "print(type(c))"
      ],
      "execution_count": null,
      "outputs": [
        {
          "output_type": "stream",
          "text": [
            "1.0\n",
            "2\n",
            "(1+0j)\n",
            "<class 'float'>\n",
            "<class 'int'>\n",
            "<class 'complex'>\n"
          ],
          "name": "stdout"
        }
      ]
    },
    {
      "cell_type": "markdown",
      "metadata": {
        "id": "A2Tj5otBvHfP"
      },
      "source": [
        "**Booleans**"
      ]
    },
    {
      "cell_type": "markdown",
      "metadata": {
        "id": "Is83pTAKvRx-"
      },
      "source": [
        "Booleans represent one of two values: True or False."
      ]
    },
    {
      "cell_type": "code",
      "metadata": {
        "colab": {
          "base_uri": "https://localhost:8080/"
        },
        "id": "Fki6rPUHvL1S",
        "outputId": "2d3c951e-68ff-4ff1-f2e8-6cf8e65aa45d"
      },
      "source": [
        "print(10 > 9)\n",
        "print(10 == 9)\n",
        "print(10 < 9)"
      ],
      "execution_count": null,
      "outputs": [
        {
          "output_type": "stream",
          "text": [
            "True\n",
            "False\n",
            "False\n"
          ],
          "name": "stdout"
        }
      ]
    },
    {
      "cell_type": "code",
      "metadata": {
        "colab": {
          "base_uri": "https://localhost:8080/"
        },
        "id": "Gi_6cTWbvwHl",
        "outputId": "6b99c100-7e9a-4109-f3ae-6f9f03fbd5c9"
      },
      "source": [
        "a = 200\n",
        "b = 33\n",
        "\n",
        "if b > a:\n",
        "  print(\"b is greater than a\")\n",
        "else:\n",
        "  print(\"b is not greater than a\")"
      ],
      "execution_count": null,
      "outputs": [
        {
          "output_type": "stream",
          "text": [
            "b is not greater than a\n"
          ],
          "name": "stdout"
        }
      ]
    }
  ]
}